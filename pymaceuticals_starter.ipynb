{
 "cells": [
  {
   "cell_type": "markdown",
   "metadata": {},
   "source": [
    "## Observations and Insights "
   ]
  },
  {
   "cell_type": "markdown",
   "metadata": {},
   "source": [
    "%matplotlib notebook"
   ]
  },
  {
   "cell_type": "code",
   "execution_count": 23,
   "metadata": {},
   "outputs": [
    {
     "data": {
      "text/html": [
       "<div>\n",
       "<style scoped>\n",
       "    .dataframe tbody tr th:only-of-type {\n",
       "        vertical-align: middle;\n",
       "    }\n",
       "\n",
       "    .dataframe tbody tr th {\n",
       "        vertical-align: top;\n",
       "    }\n",
       "\n",
       "    .dataframe thead th {\n",
       "        text-align: right;\n",
       "    }\n",
       "</style>\n",
       "<table border=\"1\" class=\"dataframe\">\n",
       "  <thead>\n",
       "    <tr style=\"text-align: right;\">\n",
       "      <th></th>\n",
       "      <th>Mouse ID</th>\n",
       "      <th>Drug Regimen</th>\n",
       "      <th>Sex</th>\n",
       "      <th>Age_months</th>\n",
       "      <th>Weight (g)</th>\n",
       "      <th>Timepoint</th>\n",
       "      <th>Tumor Volume (mm3)</th>\n",
       "      <th>Metastatic Sites</th>\n",
       "    </tr>\n",
       "  </thead>\n",
       "  <tbody>\n",
       "    <tr>\n",
       "      <th>0</th>\n",
       "      <td>k403</td>\n",
       "      <td>Ramicane</td>\n",
       "      <td>Male</td>\n",
       "      <td>21</td>\n",
       "      <td>16</td>\n",
       "      <td>0</td>\n",
       "      <td>45.000000</td>\n",
       "      <td>0</td>\n",
       "    </tr>\n",
       "    <tr>\n",
       "      <th>1</th>\n",
       "      <td>k403</td>\n",
       "      <td>Ramicane</td>\n",
       "      <td>Male</td>\n",
       "      <td>21</td>\n",
       "      <td>16</td>\n",
       "      <td>5</td>\n",
       "      <td>38.825898</td>\n",
       "      <td>0</td>\n",
       "    </tr>\n",
       "    <tr>\n",
       "      <th>2</th>\n",
       "      <td>k403</td>\n",
       "      <td>Ramicane</td>\n",
       "      <td>Male</td>\n",
       "      <td>21</td>\n",
       "      <td>16</td>\n",
       "      <td>10</td>\n",
       "      <td>35.014271</td>\n",
       "      <td>1</td>\n",
       "    </tr>\n",
       "    <tr>\n",
       "      <th>3</th>\n",
       "      <td>k403</td>\n",
       "      <td>Ramicane</td>\n",
       "      <td>Male</td>\n",
       "      <td>21</td>\n",
       "      <td>16</td>\n",
       "      <td>15</td>\n",
       "      <td>34.223992</td>\n",
       "      <td>1</td>\n",
       "    </tr>\n",
       "    <tr>\n",
       "      <th>4</th>\n",
       "      <td>k403</td>\n",
       "      <td>Ramicane</td>\n",
       "      <td>Male</td>\n",
       "      <td>21</td>\n",
       "      <td>16</td>\n",
       "      <td>20</td>\n",
       "      <td>32.997729</td>\n",
       "      <td>1</td>\n",
       "    </tr>\n",
       "    <tr>\n",
       "      <th>...</th>\n",
       "      <td>...</td>\n",
       "      <td>...</td>\n",
       "      <td>...</td>\n",
       "      <td>...</td>\n",
       "      <td>...</td>\n",
       "      <td>...</td>\n",
       "      <td>...</td>\n",
       "      <td>...</td>\n",
       "    </tr>\n",
       "    <tr>\n",
       "      <th>1888</th>\n",
       "      <td>z969</td>\n",
       "      <td>Naftisol</td>\n",
       "      <td>Male</td>\n",
       "      <td>9</td>\n",
       "      <td>30</td>\n",
       "      <td>25</td>\n",
       "      <td>63.145652</td>\n",
       "      <td>2</td>\n",
       "    </tr>\n",
       "    <tr>\n",
       "      <th>1889</th>\n",
       "      <td>z969</td>\n",
       "      <td>Naftisol</td>\n",
       "      <td>Male</td>\n",
       "      <td>9</td>\n",
       "      <td>30</td>\n",
       "      <td>30</td>\n",
       "      <td>65.841013</td>\n",
       "      <td>3</td>\n",
       "    </tr>\n",
       "    <tr>\n",
       "      <th>1890</th>\n",
       "      <td>z969</td>\n",
       "      <td>Naftisol</td>\n",
       "      <td>Male</td>\n",
       "      <td>9</td>\n",
       "      <td>30</td>\n",
       "      <td>35</td>\n",
       "      <td>69.176246</td>\n",
       "      <td>4</td>\n",
       "    </tr>\n",
       "    <tr>\n",
       "      <th>1891</th>\n",
       "      <td>z969</td>\n",
       "      <td>Naftisol</td>\n",
       "      <td>Male</td>\n",
       "      <td>9</td>\n",
       "      <td>30</td>\n",
       "      <td>40</td>\n",
       "      <td>70.314904</td>\n",
       "      <td>4</td>\n",
       "    </tr>\n",
       "    <tr>\n",
       "      <th>1892</th>\n",
       "      <td>z969</td>\n",
       "      <td>Naftisol</td>\n",
       "      <td>Male</td>\n",
       "      <td>9</td>\n",
       "      <td>30</td>\n",
       "      <td>45</td>\n",
       "      <td>73.867845</td>\n",
       "      <td>4</td>\n",
       "    </tr>\n",
       "  </tbody>\n",
       "</table>\n",
       "<p>1893 rows × 8 columns</p>\n",
       "</div>"
      ],
      "text/plain": [
       "     Mouse ID Drug Regimen   Sex  Age_months  Weight (g)  Timepoint  \\\n",
       "0        k403     Ramicane  Male          21          16          0   \n",
       "1        k403     Ramicane  Male          21          16          5   \n",
       "2        k403     Ramicane  Male          21          16         10   \n",
       "3        k403     Ramicane  Male          21          16         15   \n",
       "4        k403     Ramicane  Male          21          16         20   \n",
       "...       ...          ...   ...         ...         ...        ...   \n",
       "1888     z969     Naftisol  Male           9          30         25   \n",
       "1889     z969     Naftisol  Male           9          30         30   \n",
       "1890     z969     Naftisol  Male           9          30         35   \n",
       "1891     z969     Naftisol  Male           9          30         40   \n",
       "1892     z969     Naftisol  Male           9          30         45   \n",
       "\n",
       "      Tumor Volume (mm3)  Metastatic Sites  \n",
       "0              45.000000                 0  \n",
       "1              38.825898                 0  \n",
       "2              35.014271                 1  \n",
       "3              34.223992                 1  \n",
       "4              32.997729                 1  \n",
       "...                  ...               ...  \n",
       "1888           63.145652                 2  \n",
       "1889           65.841013                 3  \n",
       "1890           69.176246                 4  \n",
       "1891           70.314904                 4  \n",
       "1892           73.867845                 4  \n",
       "\n",
       "[1893 rows x 8 columns]"
      ]
     },
     "execution_count": 23,
     "metadata": {},
     "output_type": "execute_result"
    }
   ],
   "source": [
    "# Dependencies and Setup\n",
    "import matplotlib.pyplot as plt\n",
    "import pandas as pd\n",
    "import scipy.stats as sts\n",
    "import numpy as np\n",
    "import random\n",
    "\n",
    "# Study data files\n",
    "mouse_metadata_path = \"data/Mouse_metadata.csv\"\n",
    "study_results_path = \"data/Study_results.csv\"\n",
    "\n",
    "# Read the mouse data and the study results\n",
    "mouse_metadata = pd.read_csv(mouse_metadata_path)\n",
    "study_results = pd.read_csv(study_results_path)\n",
    "\n",
    "# Combine the data into a single dataset \n",
    "merged_df = pd.merge(mouse_metadata, study_results, on=\"Mouse ID\")\n",
    "\n",
    "# Display the data table for preview\n",
    "merged_df"
   ]
  },
  {
   "cell_type": "code",
   "execution_count": 24,
   "metadata": {},
   "outputs": [
    {
     "data": {
      "text/html": [
       "<div>\n",
       "<style scoped>\n",
       "    .dataframe tbody tr th:only-of-type {\n",
       "        vertical-align: middle;\n",
       "    }\n",
       "\n",
       "    .dataframe tbody tr th {\n",
       "        vertical-align: top;\n",
       "    }\n",
       "\n",
       "    .dataframe thead th {\n",
       "        text-align: right;\n",
       "    }\n",
       "</style>\n",
       "<table border=\"1\" class=\"dataframe\">\n",
       "  <thead>\n",
       "    <tr style=\"text-align: right;\">\n",
       "      <th></th>\n",
       "      <th>Mice Total</th>\n",
       "    </tr>\n",
       "  </thead>\n",
       "  <tbody>\n",
       "    <tr>\n",
       "      <th>0</th>\n",
       "      <td>1893</td>\n",
       "    </tr>\n",
       "  </tbody>\n",
       "</table>\n",
       "</div>"
      ],
      "text/plain": [
       "   Mice Total\n",
       "0        1893"
      ]
     },
     "execution_count": 24,
     "metadata": {},
     "output_type": "execute_result"
    }
   ],
   "source": [
    "# Checking the number of mice.\n",
    "total_df = pd.DataFrame({\"Mice Total\":[merged_df[\"Mouse ID\"].value_counts().sum()]})\n",
    "total_df"
   ]
  },
  {
   "cell_type": "code",
   "execution_count": 25,
   "metadata": {},
   "outputs": [],
   "source": [
    "# Getting the duplicate mice by ID number that shows up for Mouse ID and Timepoint. \n",
    "#merged_df[merged_df['Mouse ID'].duplicated()].sum()\n",
    "#Source Reference:https://datatofish.com/count-duplicates-pandas/\n",
    "duplicate = merged_df.pivot_table(index=['Mouse ID', 'Timepoint'], aggfunc = 'size')"
   ]
  },
  {
   "cell_type": "code",
   "execution_count": 26,
   "metadata": {},
   "outputs": [
    {
     "name": "stdout",
     "output_type": "stream",
     "text": [
      "Mouse ID  Timepoint\n",
      "a203      0            1\n",
      "          5            1\n",
      "          10           1\n",
      "          15           1\n",
      "          20           1\n",
      "                      ..\n",
      "z969      25           1\n",
      "          30           1\n",
      "          35           1\n",
      "          40           1\n",
      "          45           1\n",
      "Length: 1888, dtype: int64\n"
     ]
    }
   ],
   "source": [
    "# Optional: Get all the data for the duplicate mouse ID. \n",
    "print(duplicate)"
   ]
  },
  {
   "cell_type": "code",
   "execution_count": 27,
   "metadata": {},
   "outputs": [
    {
     "data": {
      "text/html": [
       "<div>\n",
       "<style scoped>\n",
       "    .dataframe tbody tr th:only-of-type {\n",
       "        vertical-align: middle;\n",
       "    }\n",
       "\n",
       "    .dataframe tbody tr th {\n",
       "        vertical-align: top;\n",
       "    }\n",
       "\n",
       "    .dataframe thead th {\n",
       "        text-align: right;\n",
       "    }\n",
       "</style>\n",
       "<table border=\"1\" class=\"dataframe\">\n",
       "  <thead>\n",
       "    <tr style=\"text-align: right;\">\n",
       "      <th></th>\n",
       "      <th>Mouse ID</th>\n",
       "      <th>Drug Regimen</th>\n",
       "      <th>Sex</th>\n",
       "      <th>Age_months</th>\n",
       "      <th>Weight (g)</th>\n",
       "      <th>Timepoint</th>\n",
       "      <th>Tumor Volume (mm3)</th>\n",
       "      <th>Metastatic Sites</th>\n",
       "    </tr>\n",
       "  </thead>\n",
       "  <tbody>\n",
       "    <tr>\n",
       "      <th>0</th>\n",
       "      <td>a203</td>\n",
       "      <td>Infubinol</td>\n",
       "      <td>Female</td>\n",
       "      <td>20</td>\n",
       "      <td>23</td>\n",
       "      <td>45</td>\n",
       "      <td>67.973419</td>\n",
       "      <td>2</td>\n",
       "    </tr>\n",
       "    <tr>\n",
       "      <th>1</th>\n",
       "      <td>a251</td>\n",
       "      <td>Infubinol</td>\n",
       "      <td>Female</td>\n",
       "      <td>21</td>\n",
       "      <td>25</td>\n",
       "      <td>45</td>\n",
       "      <td>65.525743</td>\n",
       "      <td>1</td>\n",
       "    </tr>\n",
       "    <tr>\n",
       "      <th>2</th>\n",
       "      <td>a262</td>\n",
       "      <td>Placebo</td>\n",
       "      <td>Female</td>\n",
       "      <td>17</td>\n",
       "      <td>29</td>\n",
       "      <td>45</td>\n",
       "      <td>70.717621</td>\n",
       "      <td>4</td>\n",
       "    </tr>\n",
       "    <tr>\n",
       "      <th>3</th>\n",
       "      <td>a275</td>\n",
       "      <td>Ceftamin</td>\n",
       "      <td>Female</td>\n",
       "      <td>20</td>\n",
       "      <td>28</td>\n",
       "      <td>45</td>\n",
       "      <td>62.999356</td>\n",
       "      <td>3</td>\n",
       "    </tr>\n",
       "    <tr>\n",
       "      <th>4</th>\n",
       "      <td>a366</td>\n",
       "      <td>Stelasyn</td>\n",
       "      <td>Female</td>\n",
       "      <td>16</td>\n",
       "      <td>29</td>\n",
       "      <td>30</td>\n",
       "      <td>63.440686</td>\n",
       "      <td>1</td>\n",
       "    </tr>\n",
       "    <tr>\n",
       "      <th>...</th>\n",
       "      <td>...</td>\n",
       "      <td>...</td>\n",
       "      <td>...</td>\n",
       "      <td>...</td>\n",
       "      <td>...</td>\n",
       "      <td>...</td>\n",
       "      <td>...</td>\n",
       "      <td>...</td>\n",
       "    </tr>\n",
       "    <tr>\n",
       "      <th>244</th>\n",
       "      <td>z435</td>\n",
       "      <td>Propriva</td>\n",
       "      <td>Female</td>\n",
       "      <td>12</td>\n",
       "      <td>26</td>\n",
       "      <td>10</td>\n",
       "      <td>48.710661</td>\n",
       "      <td>0</td>\n",
       "    </tr>\n",
       "    <tr>\n",
       "      <th>245</th>\n",
       "      <td>z578</td>\n",
       "      <td>Ramicane</td>\n",
       "      <td>Male</td>\n",
       "      <td>11</td>\n",
       "      <td>16</td>\n",
       "      <td>45</td>\n",
       "      <td>30.638696</td>\n",
       "      <td>0</td>\n",
       "    </tr>\n",
       "    <tr>\n",
       "      <th>246</th>\n",
       "      <td>z581</td>\n",
       "      <td>Infubinol</td>\n",
       "      <td>Female</td>\n",
       "      <td>24</td>\n",
       "      <td>25</td>\n",
       "      <td>45</td>\n",
       "      <td>62.754451</td>\n",
       "      <td>3</td>\n",
       "    </tr>\n",
       "    <tr>\n",
       "      <th>247</th>\n",
       "      <td>z795</td>\n",
       "      <td>Naftisol</td>\n",
       "      <td>Female</td>\n",
       "      <td>13</td>\n",
       "      <td>29</td>\n",
       "      <td>45</td>\n",
       "      <td>65.741070</td>\n",
       "      <td>3</td>\n",
       "    </tr>\n",
       "    <tr>\n",
       "      <th>248</th>\n",
       "      <td>z969</td>\n",
       "      <td>Naftisol</td>\n",
       "      <td>Male</td>\n",
       "      <td>9</td>\n",
       "      <td>30</td>\n",
       "      <td>45</td>\n",
       "      <td>73.867845</td>\n",
       "      <td>4</td>\n",
       "    </tr>\n",
       "  </tbody>\n",
       "</table>\n",
       "<p>249 rows × 8 columns</p>\n",
       "</div>"
      ],
      "text/plain": [
       "    Mouse ID Drug Regimen     Sex  Age_months  Weight (g)  Timepoint  \\\n",
       "0       a203    Infubinol  Female          20          23         45   \n",
       "1       a251    Infubinol  Female          21          25         45   \n",
       "2       a262      Placebo  Female          17          29         45   \n",
       "3       a275     Ceftamin  Female          20          28         45   \n",
       "4       a366     Stelasyn  Female          16          29         30   \n",
       "..       ...          ...     ...         ...         ...        ...   \n",
       "244     z435     Propriva  Female          12          26         10   \n",
       "245     z578     Ramicane    Male          11          16         45   \n",
       "246     z581    Infubinol  Female          24          25         45   \n",
       "247     z795     Naftisol  Female          13          29         45   \n",
       "248     z969     Naftisol    Male           9          30         45   \n",
       "\n",
       "     Tumor Volume (mm3)  Metastatic Sites  \n",
       "0             67.973419                 2  \n",
       "1             65.525743                 1  \n",
       "2             70.717621                 4  \n",
       "3             62.999356                 3  \n",
       "4             63.440686                 1  \n",
       "..                  ...               ...  \n",
       "244           48.710661                 0  \n",
       "245           30.638696                 0  \n",
       "246           62.754451                 3  \n",
       "247           65.741070                 3  \n",
       "248           73.867845                 4  \n",
       "\n",
       "[249 rows x 8 columns]"
      ]
     },
     "execution_count": 27,
     "metadata": {},
     "output_type": "execute_result"
    }
   ],
   "source": [
    "# Create a clean DataFrame by dropping the duplicate mouse by its ID.\n",
    "#Source Reference:https://stackoverflow.com/questions/12497402/python-pandas-remove-duplicates-by-columns-a-keeping-the-row-with-the-highest\n",
    "final_df = merged_df.groupby('Mouse ID', group_keys=False).apply(lambda x: x.loc[x.Timepoint.idxmax()])\n",
    "\n",
    "#Rename index \n",
    "final_df.reset_index(drop=True, inplace=True)\n",
    "\n",
    "#Display data \n",
    "final_df"
   ]
  },
  {
   "cell_type": "code",
   "execution_count": 28,
   "metadata": {},
   "outputs": [
    {
     "data": {
      "text/html": [
       "<div>\n",
       "<style scoped>\n",
       "    .dataframe tbody tr th:only-of-type {\n",
       "        vertical-align: middle;\n",
       "    }\n",
       "\n",
       "    .dataframe tbody tr th {\n",
       "        vertical-align: top;\n",
       "    }\n",
       "\n",
       "    .dataframe thead th {\n",
       "        text-align: right;\n",
       "    }\n",
       "</style>\n",
       "<table border=\"1\" class=\"dataframe\">\n",
       "  <thead>\n",
       "    <tr style=\"text-align: right;\">\n",
       "      <th></th>\n",
       "      <th>Mice Total</th>\n",
       "    </tr>\n",
       "  </thead>\n",
       "  <tbody>\n",
       "    <tr>\n",
       "      <th>0</th>\n",
       "      <td>249</td>\n",
       "    </tr>\n",
       "  </tbody>\n",
       "</table>\n",
       "</div>"
      ],
      "text/plain": [
       "   Mice Total\n",
       "0         249"
      ]
     },
     "execution_count": 28,
     "metadata": {},
     "output_type": "execute_result"
    }
   ],
   "source": [
    "# Checking the number of mice in the clean DataFrame.\n",
    "clean_df = pd.DataFrame({\"Mice Total\":[final_df[\"Mouse ID\"].value_counts().sum()]})\n",
    "clean_df"
   ]
  },
  {
   "cell_type": "markdown",
   "metadata": {},
   "source": [
    "## Summary Statistics"
   ]
  },
  {
   "cell_type": "code",
   "execution_count": 29,
   "metadata": {
    "jupyter": {
     "source_hidden": true
    }
   },
   "outputs": [],
   "source": [
    "# Generate a summary statistics table of mean, median, variance, standard deviation, and SEM of the tumor volume for each regimen\n",
    "# This method is the most straighforward, creating multiple series and putting them all together at the end.\n"
   ]
  },
  {
   "cell_type": "code",
   "execution_count": 30,
   "metadata": {},
   "outputs": [
    {
     "data": {
      "text/html": [
       "<div>\n",
       "<style scoped>\n",
       "    .dataframe tbody tr th:only-of-type {\n",
       "        vertical-align: middle;\n",
       "    }\n",
       "\n",
       "    .dataframe tbody tr th {\n",
       "        vertical-align: top;\n",
       "    }\n",
       "\n",
       "    .dataframe thead th {\n",
       "        text-align: right;\n",
       "    }\n",
       "</style>\n",
       "<table border=\"1\" class=\"dataframe\">\n",
       "  <thead>\n",
       "    <tr style=\"text-align: right;\">\n",
       "      <th></th>\n",
       "      <th>Average (mm3)</th>\n",
       "      <th>Median (mm3)</th>\n",
       "      <th>Variance (mm3)</th>\n",
       "      <th>Standard Deviation (mm3)</th>\n",
       "      <th>SEM (mm3)</th>\n",
       "    </tr>\n",
       "    <tr>\n",
       "      <th>Drug Regimen</th>\n",
       "      <th></th>\n",
       "      <th></th>\n",
       "      <th></th>\n",
       "      <th></th>\n",
       "      <th></th>\n",
       "    </tr>\n",
       "  </thead>\n",
       "  <tbody>\n",
       "    <tr>\n",
       "      <th>Capomulin</th>\n",
       "      <td>36.67</td>\n",
       "      <td>38.13</td>\n",
       "      <td>32.66</td>\n",
       "      <td>5.72</td>\n",
       "      <td>1.14</td>\n",
       "    </tr>\n",
       "    <tr>\n",
       "      <th>Ceftamin</th>\n",
       "      <td>57.75</td>\n",
       "      <td>59.85</td>\n",
       "      <td>69.98</td>\n",
       "      <td>8.37</td>\n",
       "      <td>1.67</td>\n",
       "    </tr>\n",
       "    <tr>\n",
       "      <th>Infubinol</th>\n",
       "      <td>58.18</td>\n",
       "      <td>60.17</td>\n",
       "      <td>74.01</td>\n",
       "      <td>8.60</td>\n",
       "      <td>1.72</td>\n",
       "    </tr>\n",
       "    <tr>\n",
       "      <th>Ketapril</th>\n",
       "      <td>62.81</td>\n",
       "      <td>64.49</td>\n",
       "      <td>98.92</td>\n",
       "      <td>9.95</td>\n",
       "      <td>1.99</td>\n",
       "    </tr>\n",
       "    <tr>\n",
       "      <th>Naftisol</th>\n",
       "      <td>61.21</td>\n",
       "      <td>63.28</td>\n",
       "      <td>106.03</td>\n",
       "      <td>10.30</td>\n",
       "      <td>2.06</td>\n",
       "    </tr>\n",
       "    <tr>\n",
       "      <th>Placebo</th>\n",
       "      <td>60.51</td>\n",
       "      <td>62.03</td>\n",
       "      <td>78.76</td>\n",
       "      <td>8.87</td>\n",
       "      <td>1.77</td>\n",
       "    </tr>\n",
       "    <tr>\n",
       "      <th>Propriva</th>\n",
       "      <td>56.74</td>\n",
       "      <td>55.84</td>\n",
       "      <td>69.35</td>\n",
       "      <td>8.33</td>\n",
       "      <td>1.67</td>\n",
       "    </tr>\n",
       "    <tr>\n",
       "      <th>Ramicane</th>\n",
       "      <td>36.19</td>\n",
       "      <td>36.56</td>\n",
       "      <td>32.17</td>\n",
       "      <td>5.67</td>\n",
       "      <td>1.13</td>\n",
       "    </tr>\n",
       "    <tr>\n",
       "      <th>Stelasyn</th>\n",
       "      <td>61.00</td>\n",
       "      <td>62.19</td>\n",
       "      <td>90.33</td>\n",
       "      <td>9.50</td>\n",
       "      <td>1.94</td>\n",
       "    </tr>\n",
       "    <tr>\n",
       "      <th>Zoniferol</th>\n",
       "      <td>59.18</td>\n",
       "      <td>61.84</td>\n",
       "      <td>76.86</td>\n",
       "      <td>8.77</td>\n",
       "      <td>1.75</td>\n",
       "    </tr>\n",
       "  </tbody>\n",
       "</table>\n",
       "</div>"
      ],
      "text/plain": [
       "             Average (mm3) Median (mm3) Variance (mm3)  \\\n",
       "Drug Regimen                                             \n",
       "Capomulin            36.67        38.13          32.66   \n",
       "Ceftamin             57.75        59.85          69.98   \n",
       "Infubinol            58.18        60.17          74.01   \n",
       "Ketapril             62.81        64.49          98.92   \n",
       "Naftisol             61.21        63.28         106.03   \n",
       "Placebo              60.51        62.03          78.76   \n",
       "Propriva             56.74        55.84          69.35   \n",
       "Ramicane             36.19        36.56          32.17   \n",
       "Stelasyn             61.00        62.19          90.33   \n",
       "Zoniferol            59.18        61.84          76.86   \n",
       "\n",
       "             Standard Deviation (mm3) SEM (mm3)  \n",
       "Drug Regimen                                     \n",
       "Capomulin                        5.72      1.14  \n",
       "Ceftamin                         8.37      1.67  \n",
       "Infubinol                        8.60      1.72  \n",
       "Ketapril                         9.95      1.99  \n",
       "Naftisol                        10.30      2.06  \n",
       "Placebo                          8.87      1.77  \n",
       "Propriva                         8.33      1.67  \n",
       "Ramicane                         5.67      1.13  \n",
       "Stelasyn                         9.50      1.94  \n",
       "Zoniferol                        8.77      1.75  "
      ]
     },
     "execution_count": 30,
     "metadata": {},
     "output_type": "execute_result"
    }
   ],
   "source": [
    "# Generate a summary statistics table of mean, median, variance, standard deviation, and SEM of the tumor volume for each regimen\n",
    "# This method produces everything in a single groupby function\n",
    "\n",
    "#Drug Regimen Count to be able to assess each regimen \n",
    "drug = final_df[\"Drug Regimen\"].value_counts()\n",
    "drug\n",
    "\n",
    "#To collect data \n",
    "grouped_regimen_df = final_df.groupby('Drug Regimen')\n",
    "\n",
    "#Mean of all regimens\n",
    "average_regimen = grouped_regimen_df['Tumor Volume (mm3)'].mean()\n",
    "\n",
    "#Median of all regimens\n",
    "median_regimen = grouped_regimen_df['Tumor Volume (mm3)'].median()\n",
    "\n",
    "#Variance of all regimens\n",
    "variance_regimen = grouped_regimen_df['Tumor Volume (mm3)'].var()\n",
    "\n",
    "#Standard Deviation of all regimens\n",
    "stdev_regimen = grouped_regimen_df['Tumor Volume (mm3)'].std()\n",
    "\n",
    "#SEM of all regimens \n",
    "sem_regimen = grouped_regimen_df['Tumor Volume (mm3)'].sem()\n",
    "\n",
    "#Group values together to display in table format \n",
    "drug_df = pd.concat([average_regimen, median_regimen, \n",
    "                     variance_regimen, stdev_regimen, sem_regimen],\n",
    "                     axis=1,keys=('Average (mm3)','Median (mm3)',\n",
    "                                 'Variance (mm3)', 'Standard Deviation (mm3)',\n",
    "                                 'SEM (mm3)'))\n",
    "\n",
    "#To round and format values correctly in table\n",
    "drug_df[\"Average (mm3)\"] = drug_df[\"Average (mm3)\"].map(\"{:.2f}\".format)\n",
    "drug_df[\"Median (mm3)\"] = drug_df[\"Median (mm3)\"].map(\"{:.2f}\".format)\n",
    "drug_df[\"Variance (mm3)\"] = drug_df[\"Variance (mm3)\"].map(\"{:.2f}\".format)\n",
    "drug_df[\"Standard Deviation (mm3)\"] = drug_df[\"Standard Deviation (mm3)\"].map(\"{:.2f}\".format)\n",
    "drug_df[\"SEM (mm3)\"] = drug_df[\"SEM (mm3)\"].map(\"{:.2f}\".format)\n",
    "\n",
    "drug_df"
   ]
  },
  {
   "cell_type": "markdown",
   "metadata": {},
   "source": [
    "## Bar and Pie Charts"
   ]
  },
  {
   "cell_type": "code",
   "execution_count": 31,
   "metadata": {},
   "outputs": [
    {
     "data": {
      "text/plain": [
       "Text(0.5, 0, 'Treatment Regimen Type')"
      ]
     },
     "execution_count": 31,
     "metadata": {},
     "output_type": "execute_result"
    },
    {
     "data": {
      "image/png": "[encoded data removed]",
      "text/plain": [
       "<Figure size 432x288 with 1 Axes>"
      ]
     },
     "metadata": {
      "needs_background": "light"
     },
     "output_type": "display_data"
    }
   ],
   "source": [
    "# Generate a bar plot showing the total number of mice for each treatment throughout the course of the study using pandas. \n",
    "grouped_regimen_df = final_df.groupby('Drug Regimen')\n",
    "\n",
    "#View how many mice are in each regimen and regimen info\n",
    "drug = final_df[\"Drug Regimen\"].value_counts()\n",
    "drug\n",
    "\n",
    "#Plot values of mice versus regimen type\n",
    "data = pd.DataFrame({\"Mice Total\":[25,25,25,25,25,25,25,25,25,24]},\n",
    "                    index=[\"Ketapril\",\"Zoniferol\",\"Propriva\",\"Capomulin\",\"Infubinol\",\n",
    "                    \"Naftisol\",\"Placebo\",\"Ceftamin\",\"Ramicane\",\"Stelasyn\"])\n",
    "\n",
    "data.plot(kind = \"bar\")\n",
    "plt.title(\"Total Number of Mice per Treatment Regimen\")\n",
    "plt.ylabel (\"Total Number of Mice\")\n",
    "plt.xticks(rotation=40, horizontalalignment=\"center\")\n",
    "plt.xlabel (\"Treatment Regimen Type\")"
   ]
  },
  {
   "cell_type": "code",
   "execution_count": 34,
   "metadata": {},
   "outputs": [
    {
     "data": {
      "text/plain": [
       "Text(0.5, 0, 'Treatment Regimen Type')"
      ]
     },
     "execution_count": 34,
     "metadata": {},
     "output_type": "execute_result"
    },
    {
     "data": {
      "image/png": "[encoded data removed]",
      "text/plain": [
       "<Figure size 432x288 with 1 Axes>"
      ]
     },
     "metadata": {
      "needs_background": "light"
     },
     "output_type": "display_data"
    }
   ],
   "source": [
    "# Generate a bar plot showing the total number of mice for each treatment throughout the course of the study using pyplot.\n",
    "grouped_regimen_df = final_df.groupby('Drug Regimen')\n",
    "\n",
    "#View how many mice are in each regimen and regimen info\n",
    "drug = final_df[\"Drug Regimen\"].value_counts()\n",
    "drug\n",
    "\n",
    "#Plot values of mice versus regimen type\n",
    "final_df['Drug Regimen'].value_counts().plot(kind=\"bar\", title = \"Total Number of Mice per Treatment Regimen\")\n",
    "plt.ylabel (\"Total Number of Mice\")\n",
    "plt.xticks(rotation=40, horizontalalignment=\"center\")\n",
    "plt.xlabel (\"Treatment Regimen Type\")"
   ]
  },
  {
   "cell_type": "code",
   "execution_count": 41,
   "metadata": {},
   "outputs": [
    {
     "data": {
      "text/plain": [
       "array([<matplotlib.axes._subplots.AxesSubplot object at 0x000002351FD9F438>],\n",
       "      dtype=object)"
      ]
     },
     "execution_count": 41,
     "metadata": {},
     "output_type": "execute_result"
    },
    {
     "data": {
      "image/png": "[encoded data removed]",
      "text/plain": [
       "<Figure size 432x288 with 1 Axes>"
      ]
     },
     "metadata": {},
     "output_type": "display_data"
    }
   ],
   "source": [
    "# Generate a pie plot showing the distribution of female versus male mice using pandas\n",
    "grouped_gender_df = final_df.groupby('Sex')\n",
    "\n",
    "#View how many mice are in each gender\n",
    "gender = final_df[\"Sex\"].value_counts()\n",
    "gender\n",
    "\n",
    "#Plot values of mice versus gender type\n",
    "gender = pd.DataFrame({\"Mice Total\":[125, 124]},\n",
    "                      index=[\"Male\", \"Female\"])\n",
    "gender.plot(kind = \"pie\", subplots =True)\n"
   ]
  },
  {
   "cell_type": "code",
   "execution_count": 36,
   "metadata": {},
   "outputs": [
    {
     "data": {
      "image/png": "[encoded data removed]",
      "text/plain": [
       "<Figure size 432x288 with 1 Axes>"
      ]
     },
     "metadata": {},
     "output_type": "display_data"
    }
   ],
   "source": [
    "# Generate a pie plot showing the distribution of female versus male mice using pyplot\n",
    "#Referenced from:https://pythonspot.com/matplotlib-pie-chart/\n",
    "\n",
    "#Data layout\n",
    "labels = 'Male','Female'\n",
    "sizes = [125,124]\n",
    "colors = ['lightskyblue', 'pink']\n",
    "explode = (0.1, 0)\n",
    "plt.pie(sizes, explode=explode, colors=colors, autopct='%1.1f%%', shadow=True,startangle = 140)\n",
    "plt.legend(labels, loc=\"best\")\n",
    "plt.axis('equal')\n",
    "plt.show()"
   ]
  },
  {
   "cell_type": "markdown",
   "metadata": {},
   "source": [
    "## Quartiles, Outliers and Boxplots"
   ]
  },
  {
   "cell_type": "code",
   "execution_count": 50,
   "metadata": {},
   "outputs": [
    {
     "data": {
      "text/html": [
       "<div>\n",
       "<style scoped>\n",
       "    .dataframe tbody tr th:only-of-type {\n",
       "        vertical-align: middle;\n",
       "    }\n",
       "\n",
       "    .dataframe tbody tr th {\n",
       "        vertical-align: top;\n",
       "    }\n",
       "\n",
       "    .dataframe thead th {\n",
       "        text-align: right;\n",
       "    }\n",
       "</style>\n",
       "<table border=\"1\" class=\"dataframe\">\n",
       "  <thead>\n",
       "    <tr style=\"text-align: right;\">\n",
       "      <th></th>\n",
       "      <th>Drug Regimen</th>\n",
       "      <th>Mouse ID</th>\n",
       "      <th>Timepoint</th>\n",
       "      <th>Tumor Volume (mm3)</th>\n",
       "    </tr>\n",
       "  </thead>\n",
       "  <tbody>\n",
       "    <tr>\n",
       "      <th>0</th>\n",
       "      <td>Infubinol</td>\n",
       "      <td>a203</td>\n",
       "      <td>45</td>\n",
       "      <td>67.973419</td>\n",
       "    </tr>\n",
       "    <tr>\n",
       "      <th>1</th>\n",
       "      <td>Infubinol</td>\n",
       "      <td>a251</td>\n",
       "      <td>45</td>\n",
       "      <td>65.525743</td>\n",
       "    </tr>\n",
       "    <tr>\n",
       "      <th>3</th>\n",
       "      <td>Ceftamin</td>\n",
       "      <td>a275</td>\n",
       "      <td>45</td>\n",
       "      <td>62.999356</td>\n",
       "    </tr>\n",
       "    <tr>\n",
       "      <th>6</th>\n",
       "      <td>Ramicane</td>\n",
       "      <td>a411</td>\n",
       "      <td>45</td>\n",
       "      <td>38.407618</td>\n",
       "    </tr>\n",
       "    <tr>\n",
       "      <th>7</th>\n",
       "      <td>Ramicane</td>\n",
       "      <td>a444</td>\n",
       "      <td>45</td>\n",
       "      <td>43.047543</td>\n",
       "    </tr>\n",
       "    <tr>\n",
       "      <th>...</th>\n",
       "      <td>...</td>\n",
       "      <td>...</td>\n",
       "      <td>...</td>\n",
       "      <td>...</td>\n",
       "    </tr>\n",
       "    <tr>\n",
       "      <th>239</th>\n",
       "      <td>Ceftamin</td>\n",
       "      <td>y769</td>\n",
       "      <td>45</td>\n",
       "      <td>68.594745</td>\n",
       "    </tr>\n",
       "    <tr>\n",
       "      <th>240</th>\n",
       "      <td>Capomulin</td>\n",
       "      <td>y793</td>\n",
       "      <td>45</td>\n",
       "      <td>31.896238</td>\n",
       "    </tr>\n",
       "    <tr>\n",
       "      <th>241</th>\n",
       "      <td>Ceftamin</td>\n",
       "      <td>y865</td>\n",
       "      <td>45</td>\n",
       "      <td>64.729837</td>\n",
       "    </tr>\n",
       "    <tr>\n",
       "      <th>245</th>\n",
       "      <td>Ramicane</td>\n",
       "      <td>z578</td>\n",
       "      <td>45</td>\n",
       "      <td>30.638696</td>\n",
       "    </tr>\n",
       "    <tr>\n",
       "      <th>246</th>\n",
       "      <td>Infubinol</td>\n",
       "      <td>z581</td>\n",
       "      <td>45</td>\n",
       "      <td>62.754451</td>\n",
       "    </tr>\n",
       "  </tbody>\n",
       "</table>\n",
       "<p>100 rows × 4 columns</p>\n",
       "</div>"
      ],
      "text/plain": [
       "    Drug Regimen Mouse ID  Timepoint  Tumor Volume (mm3)\n",
       "0      Infubinol     a203         45           67.973419\n",
       "1      Infubinol     a251         45           65.525743\n",
       "3       Ceftamin     a275         45           62.999356\n",
       "6       Ramicane     a411         45           38.407618\n",
       "7       Ramicane     a444         45           43.047543\n",
       "..           ...      ...        ...                 ...\n",
       "239     Ceftamin     y769         45           68.594745\n",
       "240    Capomulin     y793         45           31.896238\n",
       "241     Ceftamin     y865         45           64.729837\n",
       "245     Ramicane     z578         45           30.638696\n",
       "246    Infubinol     z581         45           62.754451\n",
       "\n",
       "[100 rows x 4 columns]"
      ]
     },
     "execution_count": 50,
     "metadata": {},
     "output_type": "execute_result"
    }
   ],
   "source": [
    "# Calculate the final tumor volume of each mouse across four of the treatment regimens:Capomulin, Ramicane, Infubinol, Ceftamin\n",
    "# Start by getting the last (greatest) timepoint for each mouse\n",
    "#group_df = final_df.groupby('Timepoint', group_keys=False).apply(lambda x: x.loc[x.Timepoint.idxmax()])\n",
    "#group_df\n",
    "\n",
    "grouped_regimen_df = final_df.groupby('Drug Regimen')\n",
    "grouped_regimen_df.nunique()\n",
    "\n",
    "done_df = final_df[['Drug Regimen', 'Mouse ID', 'Timepoint', 'Tumor Volume (mm3)']]\n",
    "done_df.reset_index(drop=True, inplace=True)\n",
    "done_df\n",
    "\n",
    "done_df.loc[done_df['Drug Regimen'].isin(['Capomulin','Ramicane', 'Infubinol','Ceftamin'])]\n",
    "\n",
    "# Merge this group df with the original dataframe to get the tumor volume at the last timepoint\n",
    "#merger2_df = pd.merge(done_df, group_df, on=\"Tumor Volume (mm3)\")\n",
    "#merger2_df"
   ]
  },
  {
   "cell_type": "code",
   "execution_count": 58,
   "metadata": {},
   "outputs": [
    {
     "name": "stdout",
     "output_type": "stream",
     "text": [
      "The lower quartile of tumor volume is: 45.93471217\n",
      "The upper quartile of tumor volume is: 64.95756185\n",
      "The interquartile range of tumor volumes is: 19.022849680000007\n",
      "The median of tumor volumes is: 55.84141007 \n",
      "-----------------------------------------\n",
      "    Drug Regimen Mouse ID  Timepoint  Tumor Volume (mm3)\n",
      "0      Infubinol     a203         45           67.973419\n",
      "1      Infubinol     a251         45           65.525743\n",
      "3       Ceftamin     a275         45           62.999356\n",
      "6       Ramicane     a411         45           38.407618\n",
      "7       Ramicane     a444         45           43.047543\n",
      "..           ...      ...        ...                 ...\n",
      "239     Ceftamin     y769         45           68.594745\n",
      "240    Capomulin     y793         45           31.896238\n",
      "241     Ceftamin     y865         45           64.729837\n",
      "245     Ramicane     z578         45           30.638696\n",
      "246    Infubinol     z581         45           62.754451\n",
      "\n",
      "[100 rows x 4 columns]\n",
      "-----------------------------------------\n",
      "Values below 17.400437649999986 could be outliers.\n",
      "Values above 93.49183637000002 could be outliers.\n"
     ]
    }
   ],
   "source": [
    "# Put treatments into a list for for loop (and later for plot labels)\n",
    "# Create empty list to fill with tumor vol data (for plotting)\n",
    "\n",
    "# Calculate the IQR and quantitatively determine if there are any potential outliers. \n",
    "quartiles = done_df['Tumor Volume (mm3)'].quantile([.25,.5,.75])\n",
    "lowerq = quartiles[0.25]\n",
    "upperq = quartiles[0.75]\n",
    "iqr = upperq-lowerq\n",
    "\n",
    "print(f\"The lower quartile of tumor volume is: {lowerq}\")\n",
    "print(f\"The upper quartile of tumor volume is: {upperq}\")\n",
    "print(f\"The interquartile range of tumor volumes is: {iqr}\")\n",
    "print(f\"The median of tumor volumes is: {quartiles[0.5]} \")\n",
    "    \n",
    "# Locate the rows which contain mice on each drug and get the tumor volumes\n",
    "mice_vol = done_df[[\"Mouse ID\", \"Drug Regimen\", \"Tumor Volume (mm3)\"]]  \n",
    "mice_vol\n",
    "    \n",
    "# Add subset \n",
    "sub_df = done_df[done_df[\"Drug Regimen\"].isin(['Capomulin','Ramicane', 'Infubinol','Ceftamin'])]    \n",
    "print(\"-----------------------------------------\")\n",
    "print (sub_df)\n",
    "print(\"-----------------------------------------\")\n",
    "# Determine outliers using upper and lower bounds\n",
    "lower_bound = lowerq - (1.5*iqr)\n",
    "upper_bound = upperq + (1.5*iqr)\n",
    "print(f\"Values below {lower_bound} could be outliers.\")\n",
    "print(f\"Values above {upper_bound} could be outliers.\")\n"
   ]
  },
  {
   "cell_type": "code",
   "execution_count": 130,
   "metadata": {},
   "outputs": [
    {
     "data": {
      "text/plain": [
       "<matplotlib.axes._subplots.AxesSubplot at 0x23521f78ba8>"
      ]
     },
     "execution_count": 130,
     "metadata": {},
     "output_type": "execute_result"
    },
    {
     "data": {
      "image/png": "[encoded data removed]",
      "text/plain": [
       "<Figure size 432x288 with 1 Axes>"
      ]
     },
     "metadata": {
      "needs_background": "light"
     },
     "output_type": "display_data"
    }
   ],
   "source": [
    "# Generate a box plot of the final tumor volume of each mouse across four regimens of interest\n",
    "#Referenced from stackoverflow:https://stackoverflow.com/questions/49554139/boxplot-of-multiple-columns-of-a-pandas-dataframe-on-the-same-figure-seaborn\n",
    "#sub_df = pd.DataFrame(data = np.random.random(size=(4,4)), columns = ['Infubinol','Ceftamin','Capomulin','Ramicane'])\n",
    "#sub_df.boxplot()\n",
    "box_df = done_df[done_df['Drug Regimen'].isin(['Capomulin','Ramicane', 'Infubinol','Ceftamin'])]\n",
    "box_df\n",
    "bplot_df = box_df[['Drug Regimen', 'Tumor Volume (mm3)']]\n",
    "\n",
    "#b_df = pd.DataFrame(box_df, columns = ['Capomulin','Ramicane', 'Infubinol','Ceftamin'])\n",
    "bplot_df.boxplot()"
   ]
  },
  {
   "cell_type": "markdown",
   "metadata": {},
   "source": [
    "## Line and Scatter Plots"
   ]
  },
  {
   "cell_type": "code",
   "execution_count": 168,
   "metadata": {},
   "outputs": [
    {
     "data": {
      "image/png": "[encoded data removed]",
      "text/plain": [
       "<Figure size 720x360 with 1 Axes>"
      ]
     },
     "metadata": {
      "needs_background": "light"
     },
     "output_type": "display_data"
    }
   ],
   "source": [
    "# Generate a line plot of time point versus tumor volume for a mouse treated with Capomulin\n",
    "line_df = done_df[done_df['Mouse ID'].isin(['b128'])]\n",
    "line_df\n",
    "lines = line_df.plot.line(x='Timepoint', y='Tumor Volume (mm3)',figsize=(10,5), linewidth=2.5, color='blue')\n",
    "\n",
    "#plt.xlabel('Timepoint')\n",
    "#plt.ylabel('Tumor Volume (mm3)')\n",
    "#plt.title('Time Vs. Tumor Volume (mm3) of Capomulin Mouse b128')"
   ]
  },
  {
   "cell_type": "code",
   "execution_count": 175,
   "metadata": {},
   "outputs": [
    {
     "data": {
      "image/png": "[encoded data removed]",
      "text/plain": [
       "<Figure size 432x288 with 1 Axes>"
      ]
     },
     "metadata": {
      "needs_background": "light"
     },
     "output_type": "display_data"
    }
   ],
   "source": [
    "# Generate a scatter plot of mouse weight versus average tumor volume for the Capomulin regimen\n",
    "scatter_df = final_df[final_df[\"Drug Regimen\"].isin(['Capomulin'])]    \n",
    "scatter_df \n",
    "\n",
    "plt.scatter(scatter_df.iloc[:,4],scatter_df.iloc[:,6])\n",
    "plt.xlabel('Mouse Weight')\n",
    "plt.ylabel('Average Tumor Volume (mm3)')\n",
    "plt.title ('Capomulin Mouse Weight (g) Vs. Tumor Volume (mm3)')\n",
    "plt.show()"
   ]
  },
  {
   "cell_type": "markdown",
   "metadata": {},
   "source": [
    "## Correlation and Regression"
   ]
  },
  {
   "cell_type": "code",
   "execution_count": 186,
   "metadata": {},
   "outputs": [
    {
     "data": {
      "image/png": "[encoded data removed]",
      "text/plain": [
       "<Figure size 432x288 with 1 Axes>"
      ]
     },
     "metadata": {
      "needs_background": "light"
     },
     "output_type": "display_data"
    },
    {
     "name": "stdout",
     "output_type": "stream",
     "text": [
      "---------------------------------------------\n",
      "The correlation between both factors is 0.88\n",
      "---------------------------------------------\n"
     ]
    },
    {
     "data": {
      "image/png": "[encoded data removed]",
      "text/plain": [
       "<Figure size 432x288 with 1 Axes>"
      ]
     },
     "metadata": {
      "needs_background": "light"
     },
     "output_type": "display_data"
    }
   ],
   "source": [
    "# Calculate the correlation coefficient and linear regression model for mouse weight and average tumor volume for the Capomulin regimen\n",
    "#Linear Regression----------------------------------------------------------\n",
    "\n",
    "# Plot the linear model on top of scatter plot \n",
    "weight = scatter_df.iloc[:,4]\n",
    "tumor = scatter_df.iloc[:,6]\n",
    "plt.scatter(weight,tumor)\n",
    "\n",
    "# Perform a linear regression on weight versus tumor volume (mm3)\n",
    "l_slope, l_int, l_r, l_p, l_std_err = sts.linregress(weight, tumor)\n",
    "\n",
    "# Create equation of line\n",
    "l_fit = l_slope * weight + l_int\n",
    "plt.plot(weight,l_fit,\"--\")\n",
    "plt.xticks(weight, rotation=90)\n",
    "plt.xlabel('Mouse Weight')\n",
    "plt.ylabel('Tumor Volume (mm3)')\n",
    "plt.show()\n",
    "\n",
    "#Correlation-----------------------------------------------------------------\n",
    "mouse_weight = scatter_df.iloc[:,4]\n",
    "avgtumor_volume = scatter_df.iloc[:,6]\n",
    "correlation = sts.pearsonr(mouse_weight,avgtumor_volume)\n",
    "\n",
    "print(\"---------------------------------------------\")\n",
    "print(f\"The correlation between both factors is {round(correlation[0],2)}\")\n",
    "print(\"---------------------------------------------\")\n",
    "\n",
    "plt.scatter(mouse_weight,avgtumor_volume)\n",
    "plt.xlabel('Mouse Weight')\n",
    "plt.ylabel('Average Tumor Volume (mm3)')\n",
    "\n",
    "plt.show()"
   ]
  },
  {
   "cell_type": "code",
   "execution_count": null,
   "metadata": {},
   "outputs": [],
   "source": []
  }
 ],
 "metadata": {
  "anaconda-cloud": {},
  "kernelspec": {
   "display_name": "Python 3",
   "language": "python",
   "name": "python3"
  },
  "language_info": {
   "codemirror_mode": {
    "name": "ipython",
    "version": 3
   },
   "file_extension": ".py",
   "mimetype": "text/x-python",
   "name": "python",
   "nbconvert_exporter": "python",
   "pygments_lexer": "ipython3",
   "version": "3.6.10"
  }
 },
 "nbformat": 4,
 "nbformat_minor": 4
}
